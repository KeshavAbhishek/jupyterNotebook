{
 "cells": [
  {
   "cell_type": "markdown",
   "metadata": {},
   "source": [
    "# Program Starts\n",
    "* Write Code\n",
    "* Execute Code"
   ]
  },
  {
   "cell_type": "markdown",
   "metadata": {},
   "source": [
    "### 1. WAP to assign values to multiple variables in one line and print it."
   ]
  },
  {
   "cell_type": "code",
   "execution_count": 1,
   "metadata": {},
   "outputs": [
    {
     "name": "stdout",
     "output_type": "stream",
     "text": [
      "a = 1, b = 2, c = 3, d = 4\n"
     ]
    }
   ],
   "source": [
    "a,b,c,d = 1,2,3,4\n",
    "print(f\"a = {a}, b = {b}, c = {c}, d = {d}\")"
   ]
  },
  {
   "cell_type": "markdown",
   "metadata": {},
   "source": [
    "### 2. WAP to assign the same value to multiple variables in one line and print it."
   ]
  },
  {
   "cell_type": "code",
   "execution_count": 2,
   "metadata": {},
   "outputs": [
    {
     "name": "stdout",
     "output_type": "stream",
     "text": [
      "a = I AM SAME\n",
      "b = I AM SAME\n",
      "c = I AM SAME\n",
      "d = I AM SAME\n"
     ]
    }
   ],
   "source": [
    "a=b=c=d=\"I AM SAME\"\n",
    "print(f\"a = {a}\\nb = {b}\\nc = {c}\\nd = {d}\")"
   ]
  },
  {
   "cell_type": "markdown",
   "metadata": {},
   "source": [
    "### 3. WAP to print the datatype of the variable x = [1, 2, \"python\", \"CGU\", '''CSE''']."
   ]
  },
  {
   "cell_type": "code",
   "execution_count": 3,
   "metadata": {},
   "outputs": [
    {
     "name": "stdout",
     "output_type": "stream",
     "text": [
      "<class 'list'>\n",
      "<class 'int'> <class 'int'> <class 'str'> <class 'str'> <class 'str'>\n",
      "1 <class 'int'>\n",
      "2 <class 'int'>\n",
      "python <class 'str'>\n",
      "CGU <class 'str'>\n",
      "CSE <class 'str'>\n"
     ]
    }
   ],
   "source": [
    "x = [1, 2, \"python\", \"CGU\", '''CSE''']\n",
    "\n",
    "print(type(x))\n",
    "print(type(x[0]), type(x[1]), type(x[2]), type(x[3]), type(x[4]))\n",
    "print(f\"{x[0]} {type(x[0])}\\n{x[1]} {type(x[1])}\\n{x[2]} {type(x[2])}\\n{x[3]} {type(x[3])}\\n{x[4]} {type(x[4])}\")"
   ]
  },
  {
   "cell_type": "markdown",
   "metadata": {},
   "source": [
    "### 4. WAP to input a complex number and print it."
   ]
  },
  {
   "cell_type": "code",
   "execution_count": 4,
   "metadata": {},
   "outputs": [
    {
     "name": "stdout",
     "output_type": "stream",
     "text": [
      "3x+4iy\n"
     ]
    }
   ],
   "source": [
    "a = \"3x+4iy\"\n",
    "print(a)"
   ]
  },
  {
   "cell_type": "markdown",
   "metadata": {},
   "source": [
    "### 5. WAP to convert a integer to complex number using typecasting."
   ]
  },
  {
   "cell_type": "code",
   "execution_count": 5,
   "metadata": {},
   "outputs": [
    {
     "name": "stdout",
     "output_type": "stream",
     "text": [
      "Enter real part 15\n",
      "Enter imaginary part :- 16\n",
      "Complex number is (15+16j)\n"
     ]
    }
   ],
   "source": [
    "complex_no = complex(int(input(\"Enter real part \")), int(input(\"Enter imaginary part :- \")))\n",
    "print(f\"Complex number is {complex_no}\")"
   ]
  },
  {
   "cell_type": "markdown",
   "metadata": {},
   "source": [
    "### 6. Welcome to the python."
   ]
  },
  {
   "cell_type": "code",
   "execution_count": 6,
   "metadata": {},
   "outputs": [
    {
     "name": "stdout",
     "output_type": "stream",
     "text": [
      "Welcome to Python World\n"
     ]
    }
   ],
   "source": [
    "print(\"Welcome to Python World\")"
   ]
  },
  {
   "cell_type": "markdown",
   "metadata": {},
   "source": [
    "### 7. A python program to print student information."
   ]
  },
  {
   "cell_type": "code",
   "execution_count": 7,
   "metadata": {},
   "outputs": [
    {
     "name": "stdout",
     "output_type": "stream",
     "text": [
      "Enter name of student :- Keshav Abhishek\n",
      "Enter regd. no. :- 2201020582\n",
      "Enter branch :- Computer Science & IT\n",
      "Enter the group :- Group 4\n",
      "Keshav Abhishek\n",
      "2201020582\n",
      "Computer Science & IT\n",
      "Group 4\n"
     ]
    }
   ],
   "source": [
    "name = input(\"Enter name of student :- \")\n",
    "regd_no = input(\"Enter regd. no. :- \")\n",
    "branch = input(\"Enter branch :- \")\n",
    "group = input(\"Enter the group :- \")\n",
    "\n",
    "print(name, regd_no, branch, group, sep=\"\\n\")"
   ]
  },
  {
   "cell_type": "markdown",
   "metadata": {},
   "source": [
    "### 8. Write a program to initialize value of a string, number, decimal, boolean and print it."
   ]
  },
  {
   "cell_type": "code",
   "execution_count": 8,
   "metadata": {},
   "outputs": [
    {
     "name": "stdout",
     "output_type": "stream",
     "text": [
      "1 1 1.0 True\n"
     ]
    }
   ],
   "source": [
    "a = str(1)\n",
    "b = int(\"1\")\n",
    "c = float(1)\n",
    "d = True\n",
    "\n",
    "print(a, b, c, d)"
   ]
  },
  {
   "cell_type": "markdown",
   "metadata": {},
   "source": [
    "### 9. WAP to swap two number using third variable and print it."
   ]
  },
  {
   "cell_type": "code",
   "execution_count": 9,
   "metadata": {},
   "outputs": [
    {
     "name": "stdout",
     "output_type": "stream",
     "text": [
      "10 20\n",
      "20 10\n"
     ]
    }
   ],
   "source": [
    "var_1 = 10\n",
    "var_2 = 20\n",
    "\n",
    "print(var_1, var_2)\n",
    "\n",
    "var_3 = var_2\n",
    "var_2 = var_1\n",
    "var_1 = var_3\n",
    "\n",
    "print(var_1, var_2)"
   ]
  },
  {
   "cell_type": "markdown",
   "metadata": {},
   "source": [
    "### 10. WAP to swap two number without using third variable and print it."
   ]
  },
  {
   "cell_type": "code",
   "execution_count": 10,
   "metadata": {},
   "outputs": [
    {
     "name": "stdout",
     "output_type": "stream",
     "text": [
      "10 20\n",
      "20 10\n"
     ]
    }
   ],
   "source": [
    "var_1 = 10\n",
    "var_2 = 20\n",
    "\n",
    "print(var_1, var_2)\n",
    "\n",
    "var_1, var_2 = var_2, var_1\n",
    "\n",
    "print(var_1, var_2)"
   ]
  },
  {
   "cell_type": "markdown",
   "metadata": {},
   "source": [
    "### 11. WAP to input 3 number and print the biggest number."
   ]
  },
  {
   "cell_type": "code",
   "execution_count": 11,
   "metadata": {},
   "outputs": [
    {
     "name": "stdout",
     "output_type": "stream",
     "text": [
      "Enter a number :- 55\n",
      "Enter a number :- 56\n",
      "Enter a number :- 54\n",
      "Biggest number is :-  56\n"
     ]
    }
   ],
   "source": [
    "var1=int(input(\"Enter a number :- \"))\n",
    "var2=int(input(\"Enter a number :- \"))\n",
    "var3=int(input(\"Enter a number :- \"))\n",
    "\n",
    "print(\"Biggest number is :- \", max(var1,var2,var3))"
   ]
  }
 ],
 "metadata": {
  "kernelspec": {
   "display_name": "Python 3 (ipykernel)",
   "language": "python",
   "name": "python3"
  },
  "language_info": {
   "codemirror_mode": {
    "name": "ipython",
    "version": 3
   },
   "file_extension": ".py",
   "mimetype": "text/x-python",
   "name": "python",
   "nbconvert_exporter": "python",
   "pygments_lexer": "ipython3",
   "version": "3.11.0"
  },
  "vscode": {
   "interpreter": {
    "hash": "d48d77ce719910e0c03802117b0a3caffc00dd315dc2f4a65c97b845d1a45e62"
   }
  }
 },
 "nbformat": 4,
 "nbformat_minor": 2
}
