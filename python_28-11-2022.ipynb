{
 "cells": [
  {
   "cell_type": "markdown",
   "metadata": {},
   "source": [
    "# Program Starts\n",
    "* Code\n",
    "* Run\n",
    "\n",
    "# The Zen of Python, by Tim Peters\n",
    "\n",
    "* Beautiful is better than ugly.\n",
    "* Explicit is better than implicit.\n",
    "* Simple is better than complex.\n",
    "* Complex is better than complicated.\n",
    "* Flat is better than nested.\n",
    "* Sparse is better than dense.\n",
    "* Readability counts.\n",
    "* Special cases aren't special enough to break the rules.\n",
    "* Although practicality beats purity.\n",
    "* Errors should never pass silently.\n",
    "* Unless explicitly silenced.\n",
    "* In the face of ambiguity, refuse the temptation to guess.\n",
    "* There should be one-- and preferably only one --obvious way to do it.\n",
    "* Although that way may not be obvious at first unless you're Dutch.\n",
    "* Now is better than never.\n",
    "* Although never is often better than *right* now.\n",
    "* If the implementation is hard to explain, it's a bad idea.\n",
    "* If the implementation is easy to explain, it may be a good idea.\n",
    "* Namespaces are one honking great idea -- let's do more of those!"
   ]
  },
  {
   "cell_type": "code",
   "execution_count": 4,
   "metadata": {},
   "outputs": [
    {
     "data": {
      "text/plain": [
       "-8"
      ]
     },
     "execution_count": 4,
     "metadata": {},
     "output_type": "execute_result"
    }
   ],
   "source": [
    "# NOT -> An operator which complement or inverse the bits.\n",
    "\n",
    "~7"
   ]
  },
  {
   "cell_type": "code",
   "execution_count": 2,
   "metadata": {},
   "outputs": [
    {
     "data": {
      "text/plain": [
       "3"
      ]
     },
     "execution_count": 2,
     "metadata": {},
     "output_type": "execute_result"
    }
   ],
   "source": [
    "# RIGHT SHIFT\n",
    "\n",
    "# 13  -->  1101\n",
    "\n",
    "13 >> 2  # 13 >> 2  -->  0011"
   ]
  },
  {
   "cell_type": "markdown",
   "metadata": {},
   "source": [
    "# Right shift decreases the value and Left shift increases the value. [Noted]"
   ]
  },
  {
   "cell_type": "code",
   "execution_count": 2,
   "metadata": {},
   "outputs": [
    {
     "name": "stdout",
     "output_type": "stream",
     "text": [
      "80\n",
      "0b10100\n",
      "0b1010000\n",
      "\n",
      "52\n",
      "0b1101\n",
      "0b110100\n"
     ]
    }
   ],
   "source": [
    "print(20<<2)\n",
    "\n",
    "print(bin(20))\n",
    "print(bin(20<<2))\n",
    "\n",
    "print()\n",
    "\n",
    "print(13 << 2)\n",
    "\n",
    "print(bin(13))\n",
    "print(bin(13<<2))"
   ]
  },
  {
   "cell_type": "markdown",
   "metadata": {},
   "source": [
    "# Superiority Order\n",
    "\n",
    "* `()`\n",
    "***\n",
    "* `**`\n",
    "***\n",
    "* `*`, `/`, `//`, `%`\n",
    "***\n",
    "* `+`, `-`\n",
    "***\n",
    "* `<<`, `>>`\n",
    "***\n",
    "* `&`\n",
    "***\n",
    "* `^`\n",
    "***\n",
    "* `|`\n",
    "***\n",
    "* `==`, `!=`, `>`, `>=`, `<`, `<=`, `is`, `is not`, `in`, `not in`\n",
    "***\n",
    "* `not`\n",
    "***\n",
    "* `and`\n",
    "***\n",
    "* `or`"
   ]
  },
  {
   "cell_type": "code",
   "execution_count": 13,
   "metadata": {},
   "outputs": [
    {
     "data": {
      "text/plain": [
       "0"
      ]
     },
     "execution_count": 13,
     "metadata": {},
     "output_type": "execute_result"
    }
   ],
   "source": [
    "v = (8*(4//5))\n",
    "# 8*0 = 0\n",
    "v"
   ]
  },
  {
   "cell_type": "code",
   "execution_count": 2,
   "metadata": {},
   "outputs": [
    {
     "name": "stdout",
     "output_type": "stream",
     "text": [
      "52328278791835085283520572289706460927597665448136471518820985988616899786538787568456115520655575006398497633467321503793224008528863465412684209662785551771055478304114154108312868438286847165869610106536955490053508658741758969591282030546053333238177002579611619026120385136972384509998671606552514989559461379435496613712352565322877746694768802791398512815343301066316425278096787645535116304646473086107336514780344304511884316142919925211774629621262704646141545576183585530678829324119820432700003604673185207241264772017502295762617185634849421228112540013406827869793087656368075878547733754929574840727360715413048911294563519126487050440477982471771474734874654903076231423443367291682536250398817340434164194580204976038923776561275326307567114496460194509815888307340399232819213886753593100430573176753134100040764890520524369711759763868603939211166007450358787283206138876542501777610455326513450434370695277350467175186432\n"
     ]
    }
   ],
   "source": [
    "print(2**5**5)"
   ]
  }
 ],
 "metadata": {
  "kernelspec": {
   "display_name": "Python 3 (ipykernel)",
   "language": "python",
   "name": "python3"
  },
  "language_info": {
   "codemirror_mode": {
    "name": "ipython",
    "version": 3
   },
   "file_extension": ".py",
   "mimetype": "text/x-python",
   "name": "python",
   "nbconvert_exporter": "python",
   "pygments_lexer": "ipython3",
   "version": "3.11.0"
  },
  "vscode": {
   "interpreter": {
    "hash": "d48d77ce719910e0c03802117b0a3caffc00dd315dc2f4a65c97b845d1a45e62"
   }
  }
 },
 "nbformat": 4,
 "nbformat_minor": 2
}
